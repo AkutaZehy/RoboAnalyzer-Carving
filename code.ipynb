{
 "cells": [
  {
   "cell_type": "markdown",
   "metadata": {},
   "source": [
    "> Author: Akuta Zehy from WHU\n",
    ">\n",
    "> This code is specialized for desktop application RoboAnalyzer and use the 'loc.csv' as location data."
   ]
  },
  {
   "cell_type": "markdown",
   "metadata": {},
   "source": [
    "### 1. Import Libs"
   ]
  },
  {
   "cell_type": "code",
   "execution_count": null,
   "metadata": {},
   "outputs": [],
   "source": [
    "import os\n",
    "import pandas as pd\n",
    "import copy\n",
    "from sympy import *"
   ]
  },
  {
   "cell_type": "markdown",
   "metadata": {},
   "source": [
    "### 2. Create Graphic Locations"
   ]
  },
  {
   "cell_type": "code",
   "execution_count": null,
   "metadata": {},
   "outputs": [],
   "source": [
    "# Initialization\n",
    "# KuKAKR5 [800, 0, 1000, 180, -90, 0] \n",
    "# The postion here is taken as the origin coordinate, and all subsequent coordinates are relative.\n",
    "# Drawing using YZ plane\n",
    "\n",
    "position = [0, 0, 0, 0, 0, 0] \n",
    "title = ['X', 'Y', 'Z', 'a', 'b', 'c']\n",
    "positions = []\n",
    "home = tuple(position) "
   ]
  },
  {
   "cell_type": "code",
   "execution_count": null,
   "metadata": {},
   "outputs": [],
   "source": [
    "# Define a function to store each step of the operation\n",
    "def store():\n",
    "    positions.append(tuple(position))\n",
    "\n",
    "store()\n",
    "positions"
   ]
  },
  {
   "cell_type": "code",
   "execution_count": null,
   "metadata": {},
   "outputs": [],
   "source": [
    "# Creating brushes and initializing parameters\n",
    "pencil = [0, 1, 0, 0, 0, 0]\n",
    "VALUE = 90\n",
    "STEP = 9\n",
    "\n",
    "s = sin(pi/36).evalf()\n",
    "\n",
    "def FD(value=VALUE, step=STEP):\n",
    "    # forward\n",
    "    global position\n",
    "    if value > step:\n",
    "        for i in range(step):\n",
    "            position = [(i + j*value/step) for i, j in zip(position, pencil)]\n",
    "            store()\n",
    "    else:\n",
    "        position = [(i + j*value) for i, j in zip(position, pencil)]\n",
    "        store()\n",
    "\n",
    "def BK(value=VALUE):\n",
    "    # backward\n",
    "    FD(-1 * value)\n",
    "\n",
    "def TL(value=VALUE):\n",
    "    # turning left\n",
    "    angle = pi * value / 180\n",
    "    x = pencil[0]\n",
    "    y = pencil[1]\n",
    "    z = pencil[2]\n",
    "    y, z = cos(angle).evalf() * y - sin(angle).evalf() * z, cos(angle).evalf() * z + sin(angle).evalf() * y\n",
    "    pencil[0] = x\n",
    "    pencil[1] = y\n",
    "    pencil[2] = z\n",
    "\n",
    "def TR(value=VALUE):\n",
    "    # turning right\n",
    "    TL(-1 * value)\n",
    "\n",
    "def TB(value=VALUE, step=STEP):\n",
    "    # lift the knife\n",
    "    for i in range(step):\n",
    "        position[0] -= value / step\n",
    "        store()\n",
    "\n",
    "def LB(value=VALUE, step=STEP):\n",
    "    # put the knife\n",
    "    for i in range(step):\n",
    "        position[0] += value / step\n",
    "        store()\n",
    "\n",
    "def RESET():\n",
    "    global pencil\n",
    "    pencil = [0, 1, 0, 0, 0, 0]\n",
    "\n",
    "def HOME():\n",
    "    global position\n",
    "    position = list(home)\n",
    "    store()"
   ]
  },
  {
   "cell_type": "code",
   "execution_count": null,
   "metadata": {},
   "outputs": [],
   "source": [
    "# Start the engraving process\n",
    "\n",
    "# C\n",
    "TL()\n",
    "FD(100)\n",
    "TL()\n",
    "FD(100)\n",
    "TR(135)\n",
    "FD(100)\n",
    "TL()\n",
    "LB()\n",
    "\n",
    "for i in range(27):\n",
    "    FD(200*s)\n",
    "    TL(10)\n",
    "\n",
    "# Q\n",
    "TB()\n",
    "RESET()\n",
    "HOME()\n",
    "\n",
    "FD(100)\n",
    "LB()\n",
    "\n",
    "for i in range(36):\n",
    "    FD(200*s)\n",
    "    TL(10)\n",
    "\n",
    "TL(90)\n",
    "TB()\n",
    "FD(100)\n",
    "TR(135)\n",
    "FD(75)\n",
    "LB()\n",
    "FD(50)\n",
    "\n",
    "# 2\n",
    "TB()\n",
    "RESET()\n",
    "HOME()\n",
    "\n",
    "TL(180)\n",
    "FD(180)\n",
    "TL()\n",
    "FD(25)\n",
    "TL()\n",
    "LB()\n",
    "FD(60)\n",
    "TR()\n",
    "FD(25)\n",
    "TR()\n",
    "FD(60)\n",
    "TL()\n",
    "FD(25)\n",
    "TL()\n",
    "FD(60)\n",
    "\n",
    "# 1\n",
    "TB()\n",
    "FD(70)\n",
    "TL()\n",
    "LB()\n",
    "FD(50)\n",
    "BK(50)\n",
    "\n",
    "# 5\n",
    "TB()\n",
    "TR()\n",
    "FD(70)\n",
    "LB()\n",
    "FD(60)\n",
    "TL()\n",
    "FD(25)\n",
    "TL()\n",
    "FD(60)\n",
    "TR()\n",
    "FD(25)\n",
    "TR()\n",
    "FD(60)\n",
    "\n",
    "# 2\n",
    "TB()\n",
    "FD(40)\n",
    "LB()\n",
    "FD(60)\n",
    "TR()\n",
    "FD(25)\n",
    "TR()\n",
    "FD(60)\n",
    "TL()\n",
    "FD(25)\n",
    "TL()\n",
    "FD(60)\n",
    "\n",
    "# Back to the home point\n",
    "TB()\n",
    "RESET()\n",
    "HOME()"
   ]
  },
  {
   "cell_type": "markdown",
   "metadata": {},
   "source": [
    "### 3.File writing and exporting"
   ]
  },
  {
   "cell_type": "code",
   "execution_count": null,
   "metadata": {},
   "outputs": [],
   "source": [
    "fname = 'loc.csv'"
   ]
  },
  {
   "cell_type": "code",
   "execution_count": null,
   "metadata": {},
   "outputs": [],
   "source": [
    "# Define a function that converts nested tuples to lists\n",
    "def convert(nest,*args): \n",
    "    converted = [] \n",
    "    for i in nest:\n",
    "        lt = list(i)   \n",
    "        converted.append(lt)\n",
    "    return converted"
   ]
  },
  {
   "cell_type": "code",
   "execution_count": null,
   "metadata": {},
   "outputs": [],
   "source": [
    "# Output\n",
    "output = convert(positions)\n",
    "output = pd.DataFrame(columns=title, data=output)\n",
    "output"
   ]
  },
  {
   "cell_type": "code",
   "execution_count": null,
   "metadata": {},
   "outputs": [],
   "source": [
    "# Exporting files\n",
    "if os.path.exists(fname):\n",
    "    os.remove(fname)\n",
    "output.to_csv(fname, encoding='utf8', header=None, index=None)"
   ]
  }
 ],
 "metadata": {
  "kernelspec": {
   "display_name": "Python 3.10.7 64-bit",
   "language": "python",
   "name": "python3"
  },
  "language_info": {
   "codemirror_mode": {
    "name": "ipython",
    "version": 3
   },
   "file_extension": ".py",
   "mimetype": "text/x-python",
   "name": "python",
   "nbconvert_exporter": "python",
   "pygments_lexer": "ipython3",
   "version": "3.10.7"
  },
  "orig_nbformat": 4,
  "vscode": {
   "interpreter": {
    "hash": "d28ca691a7eeb2e008f41e26260255c865b32dd60d6db1ac42ab5c5b4b2d8e1f"
   }
  }
 },
 "nbformat": 4,
 "nbformat_minor": 2
}
